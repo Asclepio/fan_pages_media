{
 "cells": [
  {
   "cell_type": "code",
   "execution_count": null,
   "metadata": {
    "collapsed": true
   },
   "outputs": [],
   "source": [
    "import urllib2\n",
    "import sys\n",
    "from bs4 import BeautifulSoup as soup\n",
    "from numpy import random\n",
    "import multiprocessing as mp\n",
    "import pandas as pd\n",
    "import json, codecs\n",
    "#%load_ext line_profiler\n",
    "fan_status = pd.read_csv(\"/home/digitalhouse/Documentos/FanPagesDIarios/Data/156057357762712_facebook_statuses.csv\")"
   ]
  },
  {
   "cell_type": "code",
   "execution_count": null,
   "metadata": {
    "collapsed": false
   },
   "outputs": [],
   "source": [
    "links = list(fan_status.status_link)\n",
    "def scrapper_fan_page_news(link):\n",
    "    try:\n",
    "        r = urllib2.urlopen(link).read()\n",
    "    except:\n",
    "        print 'Error URL'\n",
    "    page_soup = soup(r,\"html.parser\")\n",
    "    if 'https://www.facebook.com/' in link:\n",
    "        print 'X-FB',\n",
    "        return 'Sitio Facebook'        \n",
    "    elif 'hd.clarin.com' in link:\n",
    "        print 'X-CL'\n",
    "        return 'Sitio HD Clarin'\n",
    "    else:\n",
    "        try:\n",
    "            test = [x.findAll('p') for x in page_soup.findAll(\"div\", { \"class\" : \"body-nota\" })]\n",
    "            test = [t.text for t in test[0]]\n",
    "        except IndexError as detail:\n",
    "            print 'Error:', detail\n",
    "            return(detail)\n",
    "        except:\n",
    "            print 'Error desc'\n",
    "            return('Error_desc')\n",
    "        return (test)"
   ]
  },
  {
   "cell_type": "code",
   "execution_count": null,
   "metadata": {
    "collapsed": false
   },
   "outputs": [],
   "source": [
    "it = 0\n",
    "idd = fan_status.status_id\n",
    "testing_scrap_1000 = []\n",
    "for l in links[1000:2000]:\n",
    "    it += 1\n",
    "    if (it % 10 == 0):\n",
    "        print it,\n",
    "    testing_scrap_1000.append(scrapper_fan_page_news(l))"
   ]
  }
 ],
 "metadata": {
  "kernelspec": {
   "display_name": "Python 2",
   "language": "python",
   "name": "python2"
  },
  "language_info": {
   "codemirror_mode": {
    "name": "ipython",
    "version": 2
   },
   "file_extension": ".py",
   "mimetype": "text/x-python",
   "name": "python",
   "nbconvert_exporter": "python",
   "pygments_lexer": "ipython2",
   "version": "2.7.13"
  }
 },
 "nbformat": 4,
 "nbformat_minor": 2
}
